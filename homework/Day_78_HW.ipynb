{
 "cells": [
  {
   "cell_type": "markdown",
   "metadata": {},
   "source": [
    "## Work\n",
    "1. 請嘗試將 preproc_x 替換成以每筆資料的 min/max 進行標準化至 -1 ~ 1 間，再進行訓練\n",
    "2. 請嘗試將 mlp 疊更深 (e.g 5~10 層)，進行訓練後觀察 learning curve 的走勢\n",
    "3. (optional) 請改用 GPU 進行訓練 (如果你有 GPU 的話)，比較使用 CPU 與 GPU 的訓練速度"
   ]
  },
  {
   "cell_type": "code",
   "execution_count": 1,
   "metadata": {},
   "outputs": [
    {
     "name": "stdout",
     "output_type": "stream",
     "text": [
      "/bin/sh: nvidia-smi: command not found\r\n"
     ]
    }
   ],
   "source": [
    "## \n",
    "\"\"\"\n",
    "Your code here (optional)\n",
    "確認硬體資源\n",
    "\"\"\"\n",
    "!nvidia-smi"
   ]
  },
  {
   "cell_type": "code",
   "execution_count": 2,
   "metadata": {},
   "outputs": [
    {
     "name": "stderr",
     "output_type": "stream",
     "text": [
      "Using TensorFlow backend.\n"
     ]
    }
   ],
   "source": [
    "import os\n",
    "import keras\n",
    "import pandas as pd\n",
    "\n",
    "# 請嘗試設定 GPU：os.environ\n",
    "os.environ[\"CUDA_VISIBLE_DEVICES\"] = \"0\""
   ]
  },
  {
   "cell_type": "code",
   "execution_count": 3,
   "metadata": {},
   "outputs": [],
   "source": [
    "train, test = keras.datasets.cifar10.load_data()"
   ]
  },
  {
   "cell_type": "code",
   "execution_count": 59,
   "metadata": {},
   "outputs": [],
   "source": [
    "## 資料前處理\n",
    "\"\"\"\n",
    "Your code here\n",
    "\"\"\"\n",
    "def preproc_x(x, flatten=True):\n",
    "    x = x / 255.\n",
    "    if flatten:\n",
    "        x = x.reshape((len(x), -1))\n",
    "    return x\n",
    "\n",
    "def preproc_y(y, num_classes=10):\n",
    "    if y.shape[-1] == 1:\n",
    "        y = keras.utils.to_categorical(y, num_classes)\n",
    "    return y   "
   ]
  },
  {
   "cell_type": "code",
   "execution_count": 60,
   "metadata": {},
   "outputs": [],
   "source": [
    "x_train, y_train = train\n",
    "x_test, y_test = test\n",
    "\n",
    "# 資料前處理 - X 標準化\n",
    "x_train = preproc_x(x_train)\n",
    "x_test = preproc_x(x_test)\n",
    "\n",
    "# 資料前處理 -Y 轉成 onehot\n",
    "y_train = preproc_y(y_train)\n",
    "y_test = preproc_y(y_test)"
   ]
  },
  {
   "cell_type": "code",
   "execution_count": 61,
   "metadata": {},
   "outputs": [],
   "source": [
    "\"\"\"Code Here\n",
    "建立你的神經網路\n",
    "\"\"\"\n",
    "def build_mlp(input_shape, output_units=10, num_neurons=[512, 256, 128, 64, 32, 16, 8, 4, 2]):\n",
    "    input_layer = keras.layers.Input(input_shape)\n",
    "    \n",
    "    for i, n_units in enumerate(num_neurons):\n",
    "        if i == 0:\n",
    "            x = keras.layers.Dense(units=n_units, activation=\"relu\", name=\"hidden_layer\"+str(i+1))(input_layer)\n",
    "        else:\n",
    "            x = keras.layers.Dense(units=n_units, activation=\"relu\", name=\"hidden_layer\"+str(i+1))(x)\n",
    "    \n",
    "    out = keras.layers.Dense(units=output_units, activation=\"softmax\", name=\"output\")(x)\n",
    "    \n",
    "    model = keras.models.Model(inputs=[input_layer], outputs=[out])\n",
    "    return model"
   ]
  },
  {
   "cell_type": "code",
   "execution_count": 62,
   "metadata": {},
   "outputs": [
    {
     "name": "stderr",
     "output_type": "stream",
     "text": [
      "WARNING: Logging before flag parsing goes to stderr.\n",
      "W0721 17:28:38.638500 140736021775232 deprecation_wrapper.py:119] From /Users/linyongcheng/anaconda3/lib/python3.7/site-packages/keras/backend/tensorflow_backend.py:74: The name tf.get_default_graph is deprecated. Please use tf.compat.v1.get_default_graph instead.\n",
      "\n",
      "W0721 17:28:38.730960 140736021775232 deprecation_wrapper.py:119] From /Users/linyongcheng/anaconda3/lib/python3.7/site-packages/keras/backend/tensorflow_backend.py:517: The name tf.placeholder is deprecated. Please use tf.compat.v1.placeholder instead.\n",
      "\n",
      "W0721 17:28:38.763776 140736021775232 deprecation_wrapper.py:119] From /Users/linyongcheng/anaconda3/lib/python3.7/site-packages/keras/backend/tensorflow_backend.py:4138: The name tf.random_uniform is deprecated. Please use tf.random.uniform instead.\n",
      "\n"
     ]
    },
    {
     "name": "stdout",
     "output_type": "stream",
     "text": [
      "_________________________________________________________________\n",
      "Layer (type)                 Output Shape              Param #   \n",
      "=================================================================\n",
      "input_1 (InputLayer)         (None, 3072)              0         \n",
      "_________________________________________________________________\n",
      "hidden_layer1 (Dense)        (None, 512)               1573376   \n",
      "_________________________________________________________________\n",
      "hidden_layer2 (Dense)        (None, 256)               131328    \n",
      "_________________________________________________________________\n",
      "hidden_layer3 (Dense)        (None, 128)               32896     \n",
      "_________________________________________________________________\n",
      "hidden_layer4 (Dense)        (None, 64)                8256      \n",
      "_________________________________________________________________\n",
      "hidden_layer5 (Dense)        (None, 32)                2080      \n",
      "_________________________________________________________________\n",
      "hidden_layer6 (Dense)        (None, 16)                528       \n",
      "_________________________________________________________________\n",
      "hidden_layer7 (Dense)        (None, 8)                 136       \n",
      "_________________________________________________________________\n",
      "hidden_layer8 (Dense)        (None, 4)                 36        \n",
      "_________________________________________________________________\n",
      "hidden_layer9 (Dense)        (None, 2)                 10        \n",
      "_________________________________________________________________\n",
      "output (Dense)               (None, 10)                30        \n",
      "=================================================================\n",
      "Total params: 1,748,676\n",
      "Trainable params: 1,748,676\n",
      "Non-trainable params: 0\n",
      "_________________________________________________________________\n"
     ]
    }
   ],
   "source": [
    "model = build_mlp(input_shape=x_train.shape[1:])\n",
    "model.summary()"
   ]
  },
  {
   "cell_type": "code",
   "execution_count": 63,
   "metadata": {},
   "outputs": [],
   "source": [
    "## 超參數設定\n",
    "LEARNING_RATE = 0.001\n",
    "EPOCHS = 100\n",
    "BATCH_SIZE = 256"
   ]
  },
  {
   "cell_type": "code",
   "execution_count": 64,
   "metadata": {},
   "outputs": [
    {
     "name": "stderr",
     "output_type": "stream",
     "text": [
      "W0721 17:28:48.760282 140736021775232 deprecation_wrapper.py:119] From /Users/linyongcheng/anaconda3/lib/python3.7/site-packages/keras/optimizers.py:790: The name tf.train.Optimizer is deprecated. Please use tf.compat.v1.train.Optimizer instead.\n",
      "\n",
      "W0721 17:28:48.774129 140736021775232 deprecation_wrapper.py:119] From /Users/linyongcheng/anaconda3/lib/python3.7/site-packages/keras/backend/tensorflow_backend.py:3295: The name tf.log is deprecated. Please use tf.math.log instead.\n",
      "\n"
     ]
    }
   ],
   "source": [
    "optimizer = keras.optimizers.Adam(lr=LEARNING_RATE)\n",
    "model.compile(loss=\"categorical_crossentropy\", metrics=[\"accuracy\"], optimizer=optimizer)"
   ]
  },
  {
   "cell_type": "code",
   "execution_count": 65,
   "metadata": {},
   "outputs": [
    {
     "name": "stderr",
     "output_type": "stream",
     "text": [
      "W0721 17:28:50.281776 140736021775232 deprecation.py:323] From /Users/linyongcheng/anaconda3/lib/python3.7/site-packages/tensorflow/python/ops/math_grad.py:1250: add_dispatch_support.<locals>.wrapper (from tensorflow.python.ops.array_ops) is deprecated and will be removed in a future version.\n",
      "Instructions for updating:\n",
      "Use tf.where in 2.0, which has the same broadcast rule as np.where\n",
      "W0721 17:28:50.393522 140736021775232 deprecation_wrapper.py:119] From /Users/linyongcheng/anaconda3/lib/python3.7/site-packages/keras/backend/tensorflow_backend.py:986: The name tf.assign_add is deprecated. Please use tf.compat.v1.assign_add instead.\n",
      "\n"
     ]
    },
    {
     "name": "stdout",
     "output_type": "stream",
     "text": [
      "Train on 50000 samples, validate on 10000 samples\n",
      "Epoch 1/100\n",
      "50000/50000 [==============================] - 8s 158us/step - loss: 2.2719 - acc: 0.1383 - val_loss: 2.2228 - val_acc: 0.1670\n",
      "Epoch 2/100\n",
      "50000/50000 [==============================] - 7s 143us/step - loss: 2.1382 - acc: 0.1768 - val_loss: 2.0919 - val_acc: 0.1871\n",
      "Epoch 3/100\n",
      "50000/50000 [==============================] - 7s 143us/step - loss: 2.0444 - acc: 0.1931 - val_loss: 2.0077 - val_acc: 0.2065\n",
      "Epoch 4/100\n",
      "50000/50000 [==============================] - 7s 143us/step - loss: 2.0028 - acc: 0.2067 - val_loss: 1.9965 - val_acc: 0.2031\n",
      "Epoch 5/100\n",
      "50000/50000 [==============================] - 7s 146us/step - loss: 1.9753 - acc: 0.2145 - val_loss: 1.9547 - val_acc: 0.2198\n",
      "Epoch 6/100\n",
      "50000/50000 [==============================] - 7s 148us/step - loss: 1.9568 - acc: 0.2218 - val_loss: 1.9417 - val_acc: 0.2244\n",
      "Epoch 7/100\n",
      "50000/50000 [==============================] - 7s 145us/step - loss: 1.9196 - acc: 0.2367 - val_loss: 1.9112 - val_acc: 0.2550\n",
      "Epoch 8/100\n",
      "50000/50000 [==============================] - 7s 145us/step - loss: 1.8726 - acc: 0.2642 - val_loss: 1.8286 - val_acc: 0.3029\n",
      "Epoch 9/100\n",
      "50000/50000 [==============================] - 7s 146us/step - loss: 1.8066 - acc: 0.3158 - val_loss: 1.7908 - val_acc: 0.3212\n",
      "Epoch 10/100\n",
      "50000/50000 [==============================] - 7s 146us/step - loss: 1.7697 - acc: 0.3330 - val_loss: 1.7754 - val_acc: 0.3348\n",
      "Epoch 11/100\n",
      "50000/50000 [==============================] - 7s 145us/step - loss: 1.7468 - acc: 0.3438 - val_loss: 1.7701 - val_acc: 0.3332\n",
      "Epoch 12/100\n",
      "50000/50000 [==============================] - 7s 145us/step - loss: 1.7160 - acc: 0.3554 - val_loss: 1.7218 - val_acc: 0.3526\n",
      "Epoch 13/100\n",
      "50000/50000 [==============================] - 7s 146us/step - loss: 1.6974 - acc: 0.3615 - val_loss: 1.7270 - val_acc: 0.3548\n",
      "Epoch 14/100\n",
      "50000/50000 [==============================] - 7s 147us/step - loss: 1.6802 - acc: 0.3643 - val_loss: 1.7380 - val_acc: 0.3522\n",
      "Epoch 15/100\n",
      "50000/50000 [==============================] - 7s 146us/step - loss: 1.6654 - acc: 0.3700 - val_loss: 1.6902 - val_acc: 0.3763\n",
      "Epoch 16/100\n",
      "50000/50000 [==============================] - 7s 147us/step - loss: 1.6523 - acc: 0.3771 - val_loss: 1.7147 - val_acc: 0.3666\n",
      "Epoch 17/100\n",
      "50000/50000 [==============================] - 7s 146us/step - loss: 1.6337 - acc: 0.3840 - val_loss: 1.6917 - val_acc: 0.3737\n",
      "Epoch 18/100\n",
      "50000/50000 [==============================] - 7s 146us/step - loss: 1.6128 - acc: 0.3926 - val_loss: 1.6619 - val_acc: 0.3883\n",
      "Epoch 19/100\n",
      "50000/50000 [==============================] - 7s 146us/step - loss: 1.5990 - acc: 0.3962 - val_loss: 1.6909 - val_acc: 0.3722\n",
      "Epoch 20/100\n",
      "50000/50000 [==============================] - 7s 147us/step - loss: 1.5874 - acc: 0.4018 - val_loss: 1.6536 - val_acc: 0.3925\n",
      "Epoch 21/100\n",
      "50000/50000 [==============================] - 7s 147us/step - loss: 1.5698 - acc: 0.4096 - val_loss: 1.7417 - val_acc: 0.3782\n",
      "Epoch 22/100\n",
      "50000/50000 [==============================] - 7s 148us/step - loss: 1.5598 - acc: 0.4136 - val_loss: 1.6829 - val_acc: 0.3845\n",
      "Epoch 23/100\n",
      "50000/50000 [==============================] - 7s 147us/step - loss: 1.5464 - acc: 0.4199 - val_loss: 1.6655 - val_acc: 0.3953\n",
      "Epoch 24/100\n",
      "50000/50000 [==============================] - 7s 146us/step - loss: 1.5274 - acc: 0.4236 - val_loss: 1.6407 - val_acc: 0.3983\n",
      "Epoch 25/100\n",
      "50000/50000 [==============================] - 7s 146us/step - loss: 1.5147 - acc: 0.4319 - val_loss: 1.6583 - val_acc: 0.4080\n",
      "Epoch 26/100\n",
      "50000/50000 [==============================] - 7s 147us/step - loss: 1.5118 - acc: 0.4341 - val_loss: 1.6660 - val_acc: 0.4096\n",
      "Epoch 27/100\n",
      "50000/50000 [==============================] - 7s 147us/step - loss: 1.4996 - acc: 0.4378 - val_loss: 1.6352 - val_acc: 0.4100\n",
      "Epoch 28/100\n",
      "50000/50000 [==============================] - 7s 147us/step - loss: 1.4763 - acc: 0.4452 - val_loss: 1.6598 - val_acc: 0.4190\n",
      "Epoch 29/100\n",
      "50000/50000 [==============================] - 7s 148us/step - loss: 1.4605 - acc: 0.4512 - val_loss: 1.6682 - val_acc: 0.4085\n",
      "Epoch 30/100\n",
      "50000/50000 [==============================] - 7s 150us/step - loss: 1.4605 - acc: 0.4510 - val_loss: 1.6531 - val_acc: 0.4231\n",
      "Epoch 31/100\n",
      "50000/50000 [==============================] - 7s 148us/step - loss: 1.4365 - acc: 0.4593 - val_loss: 1.6854 - val_acc: 0.4010\n",
      "Epoch 32/100\n",
      "50000/50000 [==============================] - 7s 148us/step - loss: 1.4342 - acc: 0.4634 - val_loss: 1.6541 - val_acc: 0.4198\n",
      "Epoch 33/100\n",
      "50000/50000 [==============================] - 7s 146us/step - loss: 1.4269 - acc: 0.4659 - val_loss: 1.6608 - val_acc: 0.4206\n",
      "Epoch 34/100\n",
      "50000/50000 [==============================] - 7s 147us/step - loss: 1.4074 - acc: 0.4741 - val_loss: 1.6871 - val_acc: 0.4165\n",
      "Epoch 35/100\n",
      "50000/50000 [==============================] - 7s 147us/step - loss: 1.3980 - acc: 0.4754 - val_loss: 1.7052 - val_acc: 0.4168\n",
      "Epoch 36/100\n",
      "50000/50000 [==============================] - 7s 147us/step - loss: 1.3771 - acc: 0.4819 - val_loss: 1.7210 - val_acc: 0.4151\n",
      "Epoch 37/100\n",
      "50000/50000 [==============================] - 7s 147us/step - loss: 1.3745 - acc: 0.4841 - val_loss: 1.6870 - val_acc: 0.4299\n",
      "Epoch 38/100\n",
      "50000/50000 [==============================] - 7s 147us/step - loss: 1.3549 - acc: 0.4892 - val_loss: 1.7303 - val_acc: 0.4369\n",
      "Epoch 39/100\n",
      "50000/50000 [==============================] - 7s 148us/step - loss: 1.3555 - acc: 0.4892 - val_loss: 1.7164 - val_acc: 0.4349\n",
      "Epoch 40/100\n",
      "50000/50000 [==============================] - 7s 148us/step - loss: 1.3359 - acc: 0.4984 - val_loss: 1.7094 - val_acc: 0.4269\n",
      "Epoch 41/100\n",
      "50000/50000 [==============================] - 7s 147us/step - loss: 1.3323 - acc: 0.5012 - val_loss: 1.7351 - val_acc: 0.4299\n",
      "Epoch 42/100\n",
      "50000/50000 [==============================] - 7s 148us/step - loss: 1.3233 - acc: 0.5044 - val_loss: 1.7698 - val_acc: 0.4377\n",
      "Epoch 43/100\n",
      "50000/50000 [==============================] - 7s 148us/step - loss: 1.3079 - acc: 0.5069 - val_loss: 1.7684 - val_acc: 0.4370\n",
      "Epoch 44/100\n",
      "50000/50000 [==============================] - 7s 147us/step - loss: 1.2913 - acc: 0.5123 - val_loss: 1.7554 - val_acc: 0.4376\n",
      "Epoch 45/100\n",
      "50000/50000 [==============================] - 7s 148us/step - loss: 1.2929 - acc: 0.5118 - val_loss: 1.7421 - val_acc: 0.4344\n",
      "Epoch 46/100\n",
      "50000/50000 [==============================] - 8s 150us/step - loss: 1.2775 - acc: 0.5195 - val_loss: 1.8198 - val_acc: 0.4317\n",
      "Epoch 47/100\n",
      "50000/50000 [==============================] - 7s 149us/step - loss: 1.2640 - acc: 0.5227 - val_loss: 1.8269 - val_acc: 0.4320\n",
      "Epoch 48/100\n",
      "50000/50000 [==============================] - 7s 148us/step - loss: 1.2648 - acc: 0.5232 - val_loss: 1.8373 - val_acc: 0.4357\n",
      "Epoch 49/100\n",
      "50000/50000 [==============================] - 7s 150us/step - loss: 1.2469 - acc: 0.5287 - val_loss: 1.8853 - val_acc: 0.4200\n",
      "Epoch 50/100\n",
      "50000/50000 [==============================] - 8s 157us/step - loss: 1.2566 - acc: 0.5272 - val_loss: 1.7948 - val_acc: 0.4337\n",
      "Epoch 51/100\n",
      "50000/50000 [==============================] - 8s 152us/step - loss: 1.2261 - acc: 0.5346 - val_loss: 1.8156 - val_acc: 0.4256\n",
      "Epoch 52/100\n",
      "50000/50000 [==============================] - 8s 152us/step - loss: 1.2217 - acc: 0.5362 - val_loss: 1.8397 - val_acc: 0.4343\n",
      "Epoch 53/100\n",
      "50000/50000 [==============================] - 8s 151us/step - loss: 1.2144 - acc: 0.5394 - val_loss: 1.8402 - val_acc: 0.4345\n",
      "Epoch 54/100\n",
      "50000/50000 [==============================] - 8s 153us/step - loss: 1.2055 - acc: 0.5412 - val_loss: 1.8375 - val_acc: 0.4240\n",
      "Epoch 55/100\n",
      "50000/50000 [==============================] - 8s 152us/step - loss: 1.1961 - acc: 0.5455 - val_loss: 1.9361 - val_acc: 0.4373\n",
      "Epoch 56/100\n",
      "50000/50000 [==============================] - 8s 154us/step - loss: 1.1943 - acc: 0.5456 - val_loss: 1.9281 - val_acc: 0.4330\n",
      "Epoch 57/100\n",
      "50000/50000 [==============================] - 8s 154us/step - loss: 1.1809 - acc: 0.5487 - val_loss: 1.8603 - val_acc: 0.4333\n",
      "Epoch 58/100\n",
      "50000/50000 [==============================] - 8s 154us/step - loss: 1.1628 - acc: 0.5568 - val_loss: 1.8706 - val_acc: 0.4320\n",
      "Epoch 59/100\n",
      "50000/50000 [==============================] - 7s 145us/step - loss: 1.1561 - acc: 0.5576 - val_loss: 1.9362 - val_acc: 0.4291\n",
      "Epoch 60/100\n",
      "50000/50000 [==============================] - 7s 144us/step - loss: 1.1422 - acc: 0.5609 - val_loss: 1.9823 - val_acc: 0.4359\n",
      "Epoch 61/100\n",
      "50000/50000 [==============================] - 7s 147us/step - loss: 1.1291 - acc: 0.5679 - val_loss: 1.9485 - val_acc: 0.4344\n",
      "Epoch 62/100\n",
      "50000/50000 [==============================] - 7s 146us/step - loss: 1.1420 - acc: 0.5630 - val_loss: 1.9012 - val_acc: 0.4240\n",
      "Epoch 63/100\n",
      "50000/50000 [==============================] - 7s 147us/step - loss: 1.1360 - acc: 0.5675 - val_loss: 1.9974 - val_acc: 0.4340\n",
      "Epoch 64/100\n",
      "50000/50000 [==============================] - 7s 146us/step - loss: 1.1024 - acc: 0.5761 - val_loss: 2.0657 - val_acc: 0.4357\n",
      "Epoch 65/100\n",
      "50000/50000 [==============================] - 7s 146us/step - loss: 1.1177 - acc: 0.5723 - val_loss: 2.0311 - val_acc: 0.4354\n",
      "Epoch 66/100\n",
      "50000/50000 [==============================] - 7s 147us/step - loss: 1.0992 - acc: 0.5777 - val_loss: 2.0093 - val_acc: 0.4267\n",
      "Epoch 67/100\n",
      "50000/50000 [==============================] - 7s 147us/step - loss: 1.0896 - acc: 0.5800 - val_loss: 2.0370 - val_acc: 0.4417\n",
      "Epoch 68/100\n",
      "50000/50000 [==============================] - 7s 149us/step - loss: 1.0952 - acc: 0.5793 - val_loss: 2.0231 - val_acc: 0.4352\n",
      "Epoch 69/100\n",
      "50000/50000 [==============================] - 7s 148us/step - loss: 1.0780 - acc: 0.5862 - val_loss: 2.0870 - val_acc: 0.4351\n",
      "Epoch 70/100\n",
      "50000/50000 [==============================] - 7s 149us/step - loss: 1.0835 - acc: 0.5846 - val_loss: 2.0496 - val_acc: 0.4389\n",
      "Epoch 71/100\n",
      "50000/50000 [==============================] - 7s 150us/step - loss: 1.0611 - acc: 0.5927 - val_loss: 2.0915 - val_acc: 0.4331\n",
      "Epoch 72/100\n",
      "50000/50000 [==============================] - 7s 148us/step - loss: 1.0531 - acc: 0.5953 - val_loss: 2.1242 - val_acc: 0.4309\n",
      "Epoch 73/100\n",
      "50000/50000 [==============================] - 7s 149us/step - loss: 1.0561 - acc: 0.5923 - val_loss: 2.1176 - val_acc: 0.4389\n",
      "Epoch 74/100\n",
      "50000/50000 [==============================] - 7s 150us/step - loss: 1.0399 - acc: 0.5989 - val_loss: 2.1545 - val_acc: 0.4327\n",
      "Epoch 75/100\n",
      "50000/50000 [==============================] - 8s 151us/step - loss: 1.0473 - acc: 0.5963 - val_loss: 2.1354 - val_acc: 0.4258\n",
      "Epoch 76/100\n",
      "50000/50000 [==============================] - 8s 152us/step - loss: 1.0172 - acc: 0.6046 - val_loss: 2.2210 - val_acc: 0.4343\n",
      "Epoch 77/100\n",
      "50000/50000 [==============================] - 8s 151us/step - loss: 1.0418 - acc: 0.5977 - val_loss: 2.1813 - val_acc: 0.4253\n",
      "Epoch 78/100\n",
      "50000/50000 [==============================] - 8s 151us/step - loss: 1.0230 - acc: 0.6035 - val_loss: 2.1355 - val_acc: 0.4339\n",
      "Epoch 79/100\n",
      "50000/50000 [==============================] - 8s 152us/step - loss: 1.0215 - acc: 0.6059 - val_loss: 2.1598 - val_acc: 0.4382\n",
      "Epoch 80/100\n",
      "50000/50000 [==============================] - 7s 150us/step - loss: 1.0045 - acc: 0.6132 - val_loss: 2.2230 - val_acc: 0.4334\n",
      "Epoch 81/100\n",
      "50000/50000 [==============================] - 8s 153us/step - loss: 0.9881 - acc: 0.6186 - val_loss: 2.3075 - val_acc: 0.4338\n",
      "Epoch 82/100\n",
      "50000/50000 [==============================] - 8s 152us/step - loss: 0.9974 - acc: 0.6141 - val_loss: 2.2163 - val_acc: 0.4218\n",
      "Epoch 83/100\n",
      "50000/50000 [==============================] - 8s 152us/step - loss: 0.9998 - acc: 0.6158 - val_loss: 2.2518 - val_acc: 0.4233\n",
      "Epoch 84/100\n",
      "50000/50000 [==============================] - 8s 153us/step - loss: 0.9997 - acc: 0.6167 - val_loss: 2.2295 - val_acc: 0.4284\n",
      "Epoch 85/100\n",
      "50000/50000 [==============================] - 8s 152us/step - loss: 0.9592 - acc: 0.6288 - val_loss: 2.2632 - val_acc: 0.4232\n",
      "Epoch 86/100\n",
      "50000/50000 [==============================] - 8s 153us/step - loss: 0.9775 - acc: 0.6212 - val_loss: 2.3108 - val_acc: 0.4323\n",
      "Epoch 87/100\n",
      "50000/50000 [==============================] - 8s 155us/step - loss: 0.9557 - acc: 0.6295 - val_loss: 2.3118 - val_acc: 0.4267\n",
      "Epoch 88/100\n",
      "50000/50000 [==============================] - 8s 153us/step - loss: 0.9563 - acc: 0.6287 - val_loss: 2.2801 - val_acc: 0.4308\n",
      "Epoch 89/100\n",
      "50000/50000 [==============================] - 8s 154us/step - loss: 0.9356 - acc: 0.6338 - val_loss: 2.3615 - val_acc: 0.4392\n",
      "Epoch 90/100\n",
      "50000/50000 [==============================] - 8s 156us/step - loss: 0.9249 - acc: 0.6398 - val_loss: 2.3690 - val_acc: 0.4279\n",
      "Epoch 91/100\n",
      "50000/50000 [==============================] - 8s 155us/step - loss: 0.9663 - acc: 0.6269 - val_loss: 2.2627 - val_acc: 0.4281\n",
      "Epoch 92/100\n",
      "50000/50000 [==============================] - 8s 156us/step - loss: 0.9539 - acc: 0.6268 - val_loss: 2.3207 - val_acc: 0.4278\n",
      "Epoch 93/100\n",
      "50000/50000 [==============================] - 8s 156us/step - loss: 0.9187 - acc: 0.6420 - val_loss: 2.3691 - val_acc: 0.4298\n",
      "Epoch 94/100\n",
      "50000/50000 [==============================] - 8s 156us/step - loss: 0.9084 - acc: 0.6437 - val_loss: 2.3353 - val_acc: 0.4334\n",
      "Epoch 95/100\n",
      "50000/50000 [==============================] - 8s 157us/step - loss: 0.9074 - acc: 0.6448 - val_loss: 2.3903 - val_acc: 0.4299\n",
      "Epoch 96/100\n",
      "50000/50000 [==============================] - 8s 156us/step - loss: 0.9146 - acc: 0.6421 - val_loss: 2.4056 - val_acc: 0.4311\n",
      "Epoch 97/100\n",
      "50000/50000 [==============================] - 8s 157us/step - loss: 0.9355 - acc: 0.6359 - val_loss: 2.3609 - val_acc: 0.4242\n",
      "Epoch 98/100\n",
      "50000/50000 [==============================] - 8s 156us/step - loss: 0.9082 - acc: 0.6453 - val_loss: 2.3721 - val_acc: 0.4242\n",
      "Epoch 99/100\n",
      "50000/50000 [==============================] - 8s 163us/step - loss: 0.9168 - acc: 0.6438 - val_loss: 2.3301 - val_acc: 0.4246\n",
      "Epoch 100/100\n",
      "50000/50000 [==============================] - 8s 157us/step - loss: 0.8815 - acc: 0.6548 - val_loss: 2.4758 - val_acc: 0.4257\n"
     ]
    },
    {
     "data": {
      "text/plain": [
       "<keras.callbacks.History at 0x1a444a7f28>"
      ]
     },
     "execution_count": 65,
     "metadata": {},
     "output_type": "execute_result"
    }
   ],
   "source": [
    "model.fit(x_train, y_train, \n",
    "          epochs=EPOCHS, \n",
    "          batch_size=BATCH_SIZE, \n",
    "          validation_data=(x_test, y_test), \n",
    "          shuffle=True)"
   ]
  },
  {
   "cell_type": "code",
   "execution_count": 67,
   "metadata": {},
   "outputs": [
    {
     "data": {
      "image/png": "[encoded data removed]",
      "text/plain": [
       "<Figure size 432x288 with 1 Axes>"
      ]
     },
     "metadata": {
      "needs_background": "light"
     },
     "output_type": "display_data"
    },
    {
     "data": {
      "image/png": "[encoded data removed]",
      "text/plain": [
       "<Figure size 432x288 with 1 Axes>"
      ]
     },
     "metadata": {
      "needs_background": "light"
     },
     "output_type": "display_data"
    }
   ],
   "source": [
    "import matplotlib.pyplot as plt\n",
    "\n",
    "\n",
    "train_loss = model.history.history[\"loss\"]\n",
    "valid_loss = model.history.history[\"val_loss\"]\n",
    "\n",
    "train_acc = model.history.history[\"acc\"]\n",
    "valid_acc = model.history.history[\"val_acc\"]\n",
    "\n",
    "plt.plot(range(len(train_loss)), train_loss, label=\"train loss\")\n",
    "plt.plot(range(len(valid_loss)), valid_loss, label=\"valid loss\")\n",
    "plt.legend()\n",
    "plt.title(\"Loss\")\n",
    "plt.show()\n",
    "\n",
    "plt.plot(range(len(train_acc)), train_acc, label=\"train accuracy\")\n",
    "plt.plot(range(len(valid_acc)), valid_acc, label=\"valid accuracy\")\n",
    "plt.legend()\n",
    "plt.title(\"Accuracy\")\n",
    "plt.show()"
   ]
  },
  {
   "cell_type": "code",
   "execution_count": null,
   "metadata": {},
   "outputs": [],
   "source": []
  }
 ],
 "metadata": {
  "kernelspec": {
   "display_name": "Python 3",
   "language": "python",
   "name": "python3"
  },
  "language_info": {
   "codemirror_mode": {
    "name": "ipython",
    "version": 3
   },
   "file_extension": ".py",
   "mimetype": "text/x-python",
   "name": "python",
   "nbconvert_exporter": "python",
   "pygments_lexer": "ipython3",
   "version": "3.7.3"
  }
 },
 "nbformat": 4,
 "nbformat_minor": 2
}
