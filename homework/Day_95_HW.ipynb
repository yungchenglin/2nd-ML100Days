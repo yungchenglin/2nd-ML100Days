{
 "cells": [
  {
   "cell_type": "markdown",
   "metadata": {},
   "source": [
    "# 作業目標:\n",
    "    了解 Padding 的作法\n",
    "    \n",
    "    了解 Pooling 的作法"
   ]
  },
  {
   "cell_type": "markdown",
   "metadata": {},
   "source": [
    "# 作業重點:\n",
    "    (1) 調整Padding 的設定, 看 Pad 後的結果\n",
    "    \n",
    "    (2) 調整Pooling 的設定, 看 Poolin 後的結果"
   ]
  },
  {
   "cell_type": "code",
   "execution_count": 1,
   "metadata": {},
   "outputs": [],
   "source": [
    "import numpy as np\n",
    "import h5py\n",
    "import matplotlib.pyplot as plt\n",
    "\n",
    "# 繪圖結果直接顯示在Jupyter cell 之內\n",
    "%matplotlib inline  \n",
    "plt.rcParams['figure.figsize'] = (5.0, 4.0) #  設定繪圖板的大小\n",
    "plt.rcParams['image.interpolation'] = 'nearest'\n",
    "plt.rcParams['image.cmap'] = 'gray'\n",
    "\n",
    "# autoreload。可以讓我們不退出IPython就動態修改代碼，在執行代碼前IPython會幫我們自動重載改動的模塊\n",
    "%load_ext autoreload\n",
    "%autoreload 2\n",
    "np.random.seed(1)"
   ]
  },
  {
   "cell_type": "code",
   "execution_count": 2,
   "metadata": {},
   "outputs": [],
   "source": [
    "# GRADED FUNCTION: zero_pad\n",
    "def zero_pad(X, pad):\n",
    "    \"\"\"\n",
    "    對image X 做 zero-padding. \n",
    "    參數定義如下:\n",
    "    X -- python numpy array, 呈現維度 (m, n_H, n_W, n_C), 代表一批 m 個圖像\n",
    "         n_H: 圖高, n_W: 圖寬, n_C: color channels 數\n",
    "    pad -- 整數, 加幾圈的 zero padding.\n",
    "    Returns:\n",
    "    X_pad -- image of shape (m, n_H + 2*pad, n_W + 2*pad, n_C) 做完zero-padding 的結果\n",
    "    \"\"\"\n",
    "    \n",
    "    X_pad = np.pad(X, ((0, 0), (pad, pad), (pad, pad), (0, 0)), 'constant', constant_values=(0, 0))\n",
    "  \n",
    "    return X_pad"
   ]
  },
  {
   "cell_type": "code",
   "execution_count": 3,
   "metadata": {},
   "outputs": [
    {
     "name": "stdout",
     "output_type": "stream",
     "text": [
      "x.shape = (6, 5, 5, 4)\n",
      "x_pad.shape = (6, 9, 9, 4)\n",
      "x[1,1] = [[-0.02461696 -0.77516162  1.27375593  1.96710175]\n",
      " [-1.85798186  1.23616403  1.62765075  0.3380117 ]\n",
      " [-1.19926803  0.86334532 -0.1809203  -0.60392063]\n",
      " [-1.23005814  0.5505375   0.79280687 -0.62353073]\n",
      " [ 0.52057634 -1.14434139  0.80186103  0.0465673 ]]\n",
      "x_pad[1,1] = [[0. 0. 0. 0.]\n",
      " [0. 0. 0. 0.]\n",
      " [0. 0. 0. 0.]\n",
      " [0. 0. 0. 0.]\n",
      " [0. 0. 0. 0.]\n",
      " [0. 0. 0. 0.]\n",
      " [0. 0. 0. 0.]\n",
      " [0. 0. 0. 0.]\n",
      " [0. 0. 0. 0.]]\n"
     ]
    },
    {
     "data": {
      "text/plain": [
       "<matplotlib.image.AxesImage at 0x11b5e38d0>"
      ]
     },
     "execution_count": 3,
     "metadata": {},
     "output_type": "execute_result"
    },
    {
     "data": {
      "image/png": "[encoded data removed]",
      "text/plain": [
       "<Figure size 432x288 with 2 Axes>"
      ]
     },
     "metadata": {
      "needs_background": "light"
     },
     "output_type": "display_data"
    }
   ],
   "source": [
    "'''\n",
    "作業修改\n",
    "np.random.seed(1)\n",
    "\n",
    "x = \n",
    "x_pad = \n",
    "\n",
    "'''\n",
    "np.random.seed(1)\n",
    "\n",
    "x = np.random.randn(6, 5, 5, 4)\n",
    "x_pad = zero_pad(x, 2)\n",
    "\n",
    "print (\"x.shape =\", x.shape)\n",
    "print (\"x_pad.shape =\", x_pad.shape)\n",
    "print (\"x[1,1] =\", x[1,1])\n",
    "print (\"x_pad[1,1] =\", x_pad[1,1])\n",
    "fig, axarr = plt.subplots(1, 2)\n",
    "axarr[0].set_title('x')\n",
    "axarr[0].imshow(x[0,:,:,0])\n",
    "axarr[1].set_title('x_pad')\n",
    "axarr[1].imshow(x_pad[0,:,:,0])"
   ]
  },
  {
   "cell_type": "code",
   "execution_count": 4,
   "metadata": {},
   "outputs": [],
   "source": [
    "# GRADED FUNCTION: pool_forward\n",
    "def pool_forward(A_prev, hparameters, mode = \"max\"):\n",
    "    \"\"\"\n",
    "    設計一個前行網路的池化層\n",
    "    參數定義如下:\n",
    "    A_prev -- 輸入的numpy 陣列, 維度 (m, n_H_prev, n_W_prev, n_C_prev)\n",
    "    hparameter 超參數 --  \"f\" and \"stride\" 所形成的python 字典\n",
    "    mode -- 池化的模式: \"max\" or \"average\"\n",
    "    \n",
    "    返回:\n",
    "        A -- 輸出的池化層, 維度為 (m, n_H, n_W, n_C) 的 numpy 陣列\n",
    "        cache -- 可以應用在 backward pass pooling layer 資料, 包含 input and hparameter\n",
    "    \"\"\"\n",
    "\n",
    "    # 檢索尺寸 from the input shape\n",
    "    (m, n_H_prev, n_W_prev, n_C_prev) = A_prev.shape\n",
    " \n",
    "    # 檢索超參數 from \"hparameters\"\n",
    "    f = hparameters[\"f\"]\n",
    "    stride = hparameters[\"stride\"]\n",
    "\n",
    "    # 定義輸出的dimensions\n",
    "    n_H = int(1 + (n_H_prev - f) / stride)\n",
    "    n_W = int(1 + (n_W_prev - f) / stride)\n",
    "    n_C = n_C_prev\n",
    "\n",
    "    # 初始化輸出的 matrix A\n",
    "    A = np.zeros((m, n_H, n_W, n_C))\n",
    "\n",
    "    ### 程式起始位置  ###\n",
    "    for i in range(m): # 訓練樣本的for 迴圈\n",
    "        for h in range(n_H): # 輸出樣本的for 迴圈, 針對vertical axis\n",
    "            for w in range(n_W): #  輸出樣本的for 迴圈, 針對 horizontal axis\n",
    "                for c in range (n_C): #  輸出樣本的for 迴圈, 針對channels\n",
    "\n",
    "                     # 找出特徵圖的寬度跟高度四個點\n",
    "                    vert_start = h * stride\n",
    "                    vert_end = h * stride+ f\n",
    "                    horiz_start = w * stride\n",
    "                    horiz_end = w * stride + f\n",
    "\n",
    "                    # 定義第i個訓練示例\n",
    "                    a_prev_slice = A_prev[i, vert_start:vert_end, horiz_start:horiz_end,c]\n",
    "\n",
    "                    # 計算輸入data 的池化結果. 使用 if statment 去做分類\n",
    "                    if mode == \"max\":\n",
    "                        A[i, h, w, c] = np.max(a_prev_slice)\n",
    "                    elif mode == \"average\":\n",
    "                        A[i, h, w, c] = np.mean(a_prev_slice)\n",
    "\n",
    "                        ### 程式結束  ###\n",
    "    \n",
    "    # 儲存輸入的特徵圖跟所設定的超參數, 可以用在 pool_backward()\n",
    "    cache = (A_prev, hparameters)\n",
    "    \n",
    "    # 確認輸出的資料維度\n",
    "    assert(A.shape == (m, n_H, n_W, n_C))\n",
    "    return A, cache"
   ]
  },
  {
   "cell_type": "code",
   "execution_count": 5,
   "metadata": {},
   "outputs": [
    {
     "name": "stdout",
     "output_type": "stream",
     "text": [
      "mode = max\n",
      "A = [[[[1.62434536 1.74481176 1.51981682 2.18557541 1.13376944]\n",
      "   [1.46210794 1.14472371 2.10025514 1.6924546  1.13376944]]\n",
      "\n",
      "  [[1.23616403 1.62765075 1.51981682 2.18557541 0.86334532]\n",
      "   [0.16938243 1.2245077  0.86888616 0.87616892 0.79280687]]]\n",
      "\n",
      "\n",
      " [[[1.6169496  0.62336218 1.90465871 1.93752881 0.6590498 ]\n",
      "   [2.44936865 2.05117344 1.90465871 1.95487808 1.04444209]]\n",
      "\n",
      "  [[2.06578332 1.54335911 1.3887794  1.93752881 3.03085711]\n",
      "   [1.12341216 2.05117344 1.3887794  1.93752881 3.03085711]]]\n",
      "\n",
      "\n",
      " [[[1.20845633 1.76795995 0.92061512 1.23289919 2.11060505]\n",
      "   [1.20845633 2.13782807 1.76024923 1.35010682 1.83471763]]\n",
      "\n",
      "  [[1.20845633 1.61336137 1.70459417 1.04008915 2.0546241 ]\n",
      "   [1.20845633 1.1157018  1.7653351  1.86647138 1.78975468]]]\n",
      "\n",
      "\n",
      " [[[0.78002714 1.00806543 1.22895559 1.85300949 1.47073986]\n",
      "   [1.03298378 1.74643509 1.47016034 1.71066184 1.16143998]]\n",
      "\n",
      "  [[0.98495167 1.07125243 1.34710546 0.85987097 1.47073986]\n",
      "   [1.42361443 1.22515585 1.57546791 2.50598029 1.91979229]]]]\n",
      "\n",
      "mode = average\n",
      "A = [[[[-0.26503664 -0.16097184 -0.06876972  0.45919097  0.1421188 ]\n",
      "   [-0.55063406 -0.34980405  0.12071854  0.34891554  0.48361145]]\n",
      "\n",
      "  [[-0.04603637  0.35493451  0.29403297  0.37965222 -0.08528426]\n",
      "   [-0.70339194  0.12041172 -0.00388762  0.34299662  0.21478156]]]\n",
      "\n",
      "\n",
      " [[[ 0.14091306  0.12288258  0.18318489  0.66297886 -0.40585749]\n",
      "   [ 0.23973954  0.24991865  0.26346962  0.7856295  -0.14207571]]\n",
      "\n",
      "  [[ 0.42554013 -0.15676097 -0.14308341  0.33150044  0.10383958]\n",
      "   [-0.02541115 -0.00228612  0.10809101 -0.12179114  0.30385802]]]\n",
      "\n",
      "\n",
      " [[[-0.07925329  0.3562949  -0.24931984  0.15150678  0.59564436]\n",
      "   [ 0.17190906  0.17700763  0.06007161  0.11811961  0.44896433]]\n",
      "\n",
      "  [[ 0.02865252  0.25095095  0.4199737   0.06574384  0.24127809]\n",
      "   [-0.07980033  0.04952185 -0.01397458  0.49496209 -0.0274677 ]]]\n",
      "\n",
      "\n",
      " [[[-0.30221778 -0.0306804  -0.05015964 -0.00906814 -0.33959002]\n",
      "   [ 0.18670772 -0.07282317  0.37654101  0.01088425 -0.48922259]]\n",
      "\n",
      "  [[-0.36961384  0.00304498  0.048847   -0.44508628 -0.38346748]\n",
      "   [ 0.19764062 -0.01137629 -0.06054095  0.57373835 -0.18616851]]]]\n"
     ]
    }
   ],
   "source": [
    "'''\n",
    "作業修改\n",
    "np.random.seed(1)\n",
    "A_prev = \n",
    "hparameters = \n",
    "'''\n",
    "\n",
    "np.random.seed(1)\n",
    "\n",
    "A_prev = np.random.randn(4, 6, 6, 5)\n",
    "hparameters = {\"stride\" : 2, \"f\": 3}\n",
    "\n",
    "A, cache = pool_forward(A_prev, hparameters)\n",
    "print(\"mode = max\")\n",
    "print(\"A =\", A)\n",
    "print()\n",
    "A, cache = pool_forward(A_prev, hparameters, mode = \"average\")\n",
    "print(\"mode = average\")\n",
    "print(\"A =\", A)"
   ]
  },
  {
   "cell_type": "code",
   "execution_count": null,
   "metadata": {},
   "outputs": [],
   "source": []
  }
 ],
 "metadata": {
  "kernelspec": {
   "display_name": "Python 3",
   "language": "python",
   "name": "python3"
  },
  "language_info": {
   "codemirror_mode": {
    "name": "ipython",
    "version": 3
   },
   "file_extension": ".py",
   "mimetype": "text/x-python",
   "name": "python",
   "nbconvert_exporter": "python",
   "pygments_lexer": "ipython3",
   "version": "3.7.3"
  }
 },
 "nbformat": 4,
 "nbformat_minor": 2
}
