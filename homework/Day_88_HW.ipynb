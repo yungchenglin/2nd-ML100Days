{
 "cells": [
  {
   "cell_type": "markdown",
   "metadata": {},
   "source": [
    "## Work\n",
    "1. 請嘗試寫一個 callback 用來記錄各類別在訓練過程中，對驗證集的 True Positive 與 True Negative"
   ]
  },
  {
   "cell_type": "code",
   "execution_count": 1,
   "metadata": {},
   "outputs": [
    {
     "name": "stderr",
     "output_type": "stream",
     "text": [
      "Using TensorFlow backend.\n"
     ]
    }
   ],
   "source": [
    "import os\n",
    "import keras\n",
    "\n",
    "# Disable GPU\n",
    "os.environ[\"CUDA_VISIBLE_DEVICES\"] = \"\""
   ]
  },
  {
   "cell_type": "code",
   "execution_count": 2,
   "metadata": {},
   "outputs": [],
   "source": [
    "train, test = keras.datasets.cifar10.load_data()"
   ]
  },
  {
   "cell_type": "code",
   "execution_count": 3,
   "metadata": {},
   "outputs": [],
   "source": [
    "## 資料前處理\n",
    "def preproc_x(x, flatten=True):\n",
    "    x = x / 255.\n",
    "    if flatten:\n",
    "        x = x.reshape((len(x), -1))\n",
    "    return x\n",
    "\n",
    "def preproc_y(y, num_classes=10):\n",
    "    if y.shape[-1] == 1:\n",
    "        y = keras.utils.to_categorical(y, num_classes)\n",
    "    return y    "
   ]
  },
  {
   "cell_type": "code",
   "execution_count": 4,
   "metadata": {},
   "outputs": [],
   "source": [
    "x_train, y_train = train\n",
    "x_test, y_test = test\n",
    "\n",
    "# Preproc the inputs\n",
    "x_train = preproc_x(x_train)\n",
    "x_test = preproc_x(x_test)\n",
    "\n",
    "# Preprc the outputs\n",
    "y_train = preproc_y(y_train)\n",
    "y_test = preproc_y(y_test)"
   ]
  },
  {
   "cell_type": "code",
   "execution_count": 5,
   "metadata": {},
   "outputs": [],
   "source": [
    "from keras.layers import BatchNormalization\n",
    "def build_mlp(input_shape, output_units=10, num_neurons=[512, 256, 128]):\n",
    "    \"\"\"Code Here\n",
    "    建立你的神經網路\n",
    "    \"\"\"\n",
    "    \n",
    "    input_layer = keras.layers.Input(input_shape)\n",
    "    \n",
    "    for i, n_units in enumerate(num_neurons):\n",
    "        if i == 0:\n",
    "            x = keras.layers.Dense(units=n_units, \n",
    "                                   activation=\"relu\", \n",
    "                                   name=\"hidden_layer\"+str(i+1))(input_layer)\n",
    "            x = BatchNormalization()(x)\n",
    "        else:\n",
    "            x = keras.layers.Dense(units=n_units, \n",
    "                                   activation=\"relu\", \n",
    "                                   name=\"hidden_layer\"+str(i+1))(x)\n",
    "            x = BatchNormalization()(x)\n",
    "    \n",
    "    out = keras.layers.Dense(units=output_units, activation=\"softmax\", name=\"output\")(x)\n",
    "    \n",
    "    model = keras.models.Model(inputs=[input_layer], outputs=[out])\n",
    "    \n",
    "    return model"
   ]
  },
  {
   "cell_type": "code",
   "execution_count": 6,
   "metadata": {},
   "outputs": [],
   "source": [
    "## 超參數設定\n",
    "LEARNING_RATE = 1e-3\n",
    "EPOCHS = 25\n",
    "BATCH_SIZE = 1024\n",
    "MOMENTUM = 0.95"
   ]
  },
  {
   "cell_type": "code",
   "execution_count": 9,
   "metadata": {},
   "outputs": [],
   "source": [
    "# 載入 Callbacks\n",
    "from keras.callbacks import Callback\n",
    "import numpy as np\n",
    "\n",
    "# Record_fp_tp\n",
    "class Record_tp_tn(Callback):\n",
    "    \"\"\"Code Here\n",
    "    撰寫一個紀錄 ture positive 與 true negative 數量的 callbacks    \n",
    "    \"\"\"\n",
    "    def on_train_begin(self, epoch, logs = {}):\n",
    "        logs = logs or {}\n",
    "        record_items = [\"val_fp\", \"val_fn\", \"val_tp\", \"val_tn\", \"true_positives\", \"true_negatives\"]\n",
    "        for i in record_items:\n",
    "            if i not in self.params['metrics']:\n",
    "                self.params['metrics'].append(i)\n",
    "    \n",
    "    def on_epoch_end(self, epoch, logs = {}, thres=0.5):\n",
    "        logs = logs or {}\n",
    "        y_true = self.validation_data[1].argmax(axis = 1)\n",
    "        y_pred = self.model.predict(self.validation_data[0])\n",
    "        y_pred = (y_pred[:, 1] >= thres) * 1\n",
    "        true_positives = np.sum(np.logical_and(y_pred == 1, y_true == 1))\n",
    "        true_negatives = np.sum(np.logical_and(y_pred == 0, y_true == 0))\n",
    "        logs[\"true_positives\"] = true_positives\n",
    "        logs[\"true_negatives\"] = true_negatives\n",
    "        \n",
    "        \n",
    "rec_tptn = Record_tp_tn()"
   ]
  },
  {
   "cell_type": "code",
   "execution_count": 10,
   "metadata": {
    "scrolled": true
   },
   "outputs": [
    {
     "name": "stdout",
     "output_type": "stream",
     "text": [
      "_________________________________________________________________\n",
      "Layer (type)                 Output Shape              Param #   \n",
      "=================================================================\n",
      "input_2 (InputLayer)         (None, 3072)              0         \n",
      "_________________________________________________________________\n",
      "hidden_layer1 (Dense)        (None, 512)               1573376   \n",
      "_________________________________________________________________\n",
      "batch_normalization_4 (Batch (None, 512)               2048      \n",
      "_________________________________________________________________\n",
      "hidden_layer2 (Dense)        (None, 256)               131328    \n",
      "_________________________________________________________________\n",
      "batch_normalization_5 (Batch (None, 256)               1024      \n",
      "_________________________________________________________________\n",
      "hidden_layer3 (Dense)        (None, 128)               32896     \n",
      "_________________________________________________________________\n",
      "batch_normalization_6 (Batch (None, 128)               512       \n",
      "_________________________________________________________________\n",
      "output (Dense)               (None, 10)                1290      \n",
      "=================================================================\n",
      "Total params: 1,742,474\n",
      "Trainable params: 1,740,682\n",
      "Non-trainable params: 1,792\n",
      "_________________________________________________________________\n",
      "Train on 50000 samples, validate on 10000 samples\n",
      "Epoch 1/25\n",
      "50000/50000 [==============================] - 7s 130us/step - loss: 2.2197 - acc: 0.2731 - val_loss: 2.0116 - val_acc: 0.3341\n",
      "Epoch 2/25\n",
      "50000/50000 [==============================] - 6s 110us/step - loss: 1.7452 - acc: 0.3941 - val_loss: 1.8010 - val_acc: 0.3756\n",
      "Epoch 3/25\n",
      "50000/50000 [==============================] - 6s 113us/step - loss: 1.6175 - acc: 0.4348 - val_loss: 1.6960 - val_acc: 0.4007\n",
      "Epoch 4/25\n",
      "50000/50000 [==============================] - 6s 110us/step - loss: 1.5433 - acc: 0.4596 - val_loss: 1.6233 - val_acc: 0.4237\n",
      "Epoch 5/25\n",
      "50000/50000 [==============================] - 6s 111us/step - loss: 1.4870 - acc: 0.4795 - val_loss: 1.5928 - val_acc: 0.4333\n",
      "Epoch 6/25\n",
      "50000/50000 [==============================] - 6s 110us/step - loss: 1.4424 - acc: 0.4961 - val_loss: 1.5619 - val_acc: 0.4454\n",
      "Epoch 7/25\n",
      "50000/50000 [==============================] - 6s 111us/step - loss: 1.4024 - acc: 0.5114 - val_loss: 1.5377 - val_acc: 0.4496\n",
      "Epoch 8/25\n",
      "50000/50000 [==============================] - 6s 110us/step - loss: 1.3652 - acc: 0.5238 - val_loss: 1.5139 - val_acc: 0.4625\n",
      "Epoch 9/25\n",
      "50000/50000 [==============================] - 6s 110us/step - loss: 1.3325 - acc: 0.5365 - val_loss: 1.5195 - val_acc: 0.4615\n",
      "Epoch 10/25\n",
      "50000/50000 [==============================] - 6s 112us/step - loss: 1.3012 - acc: 0.5470 - val_loss: 1.5002 - val_acc: 0.4704\n",
      "Epoch 11/25\n",
      "50000/50000 [==============================] - 6s 111us/step - loss: 1.2717 - acc: 0.5585 - val_loss: 1.4755 - val_acc: 0.4780\n",
      "Epoch 12/25\n",
      "50000/50000 [==============================] - 6s 111us/step - loss: 1.2452 - acc: 0.5681 - val_loss: 1.4713 - val_acc: 0.4754\n",
      "Epoch 13/25\n",
      "50000/50000 [==============================] - 6s 111us/step - loss: 1.2191 - acc: 0.5766 - val_loss: 1.4680 - val_acc: 0.4816\n",
      "Epoch 14/25\n",
      "50000/50000 [==============================] - 6s 113us/step - loss: 1.1942 - acc: 0.5870 - val_loss: 1.4604 - val_acc: 0.4888\n",
      "Epoch 15/25\n",
      "50000/50000 [==============================] - 6s 111us/step - loss: 1.1712 - acc: 0.5950 - val_loss: 1.4540 - val_acc: 0.4857\n",
      "Epoch 16/25\n",
      "50000/50000 [==============================] - 6s 112us/step - loss: 1.1454 - acc: 0.6039 - val_loss: 1.4586 - val_acc: 0.4849\n",
      "Epoch 17/25\n",
      "50000/50000 [==============================] - 6s 112us/step - loss: 1.1238 - acc: 0.6114 - val_loss: 1.4515 - val_acc: 0.4867\n",
      "Epoch 18/25\n",
      "50000/50000 [==============================] - 6s 112us/step - loss: 1.1007 - acc: 0.6229 - val_loss: 1.4565 - val_acc: 0.4920\n",
      "Epoch 19/25\n",
      "50000/50000 [==============================] - 6s 115us/step - loss: 1.0778 - acc: 0.6303 - val_loss: 1.4351 - val_acc: 0.4955\n",
      "Epoch 20/25\n",
      "50000/50000 [==============================] - 6s 112us/step - loss: 1.0555 - acc: 0.6391 - val_loss: 1.4417 - val_acc: 0.4956\n",
      "Epoch 21/25\n",
      "50000/50000 [==============================] - 6s 112us/step - loss: 1.0367 - acc: 0.6468 - val_loss: 1.4501 - val_acc: 0.4941\n",
      "Epoch 22/25\n",
      "50000/50000 [==============================] - 6s 113us/step - loss: 1.0126 - acc: 0.6545 - val_loss: 1.4448 - val_acc: 0.4938\n",
      "Epoch 23/25\n",
      "50000/50000 [==============================] - 6s 112us/step - loss: 0.9942 - acc: 0.6626 - val_loss: 1.4447 - val_acc: 0.4983\n",
      "Epoch 24/25\n",
      "50000/50000 [==============================] - 6s 113us/step - loss: 0.9718 - acc: 0.6719 - val_loss: 1.4503 - val_acc: 0.4986\n",
      "Epoch 25/25\n",
      "50000/50000 [==============================] - 6s 113us/step - loss: 0.9514 - acc: 0.6784 - val_loss: 1.4493 - val_acc: 0.4984\n"
     ]
    }
   ],
   "source": [
    "model = build_mlp(input_shape=x_train.shape[1:])\n",
    "model.summary()\n",
    "optimizer = keras.optimizers.SGD(lr=LEARNING_RATE, nesterov=True, momentum=MOMENTUM)\n",
    "model.compile(loss=\"categorical_crossentropy\", metrics=[\"accuracy\"], optimizer=optimizer)\n",
    "\n",
    "\"\"\"Code Here\n",
    "將 callbacks 放入模型訓練流程中\n",
    "\"\"\"\n",
    "model.fit(x_train, y_train, \n",
    "          epochs=EPOCHS, \n",
    "          batch_size=BATCH_SIZE, \n",
    "          validation_data=(x_test, y_test), \n",
    "          shuffle=True,\n",
    "          callbacks=[rec_tptn]\n",
    "         )\n",
    "\n",
    "# Collect results\n",
    "train_loss = model.history.history[\"loss\"]\n",
    "valid_loss = model.history.history[\"val_loss\"]\n",
    "train_acc = model.history.history[\"acc\"]\n",
    "valid_acc = model.history.history[\"val_acc\"]\n",
    "\n",
    "\"\"\"Code Here\n",
    "將 tp/tn 從訓練完的模型中取出\n",
    "\"\"\"\n",
    "valid_tp =  model.history.history['true_positives']\n",
    "valid_tn =  model.history.history['true_negatives']"
   ]
  },
  {
   "cell_type": "code",
   "execution_count": 11,
   "metadata": {},
   "outputs": [
    {
     "data": {
      "image/png": "[encoded data removed]",
      "text/plain": [
       "<Figure size 432x288 with 1 Axes>"
      ]
     },
     "metadata": {
      "needs_background": "light"
     },
     "output_type": "display_data"
    },
    {
     "data": {
      "image/png": "[encoded data removed]",
      "text/plain": [
       "<Figure size 432x288 with 1 Axes>"
      ]
     },
     "metadata": {
      "needs_background": "light"
     },
     "output_type": "display_data"
    },
    {
     "data": {
      "image/png": "[encoded data removed]",
      "text/plain": [
       "<Figure size 432x288 with 1 Axes>"
      ]
     },
     "metadata": {
      "needs_background": "light"
     },
     "output_type": "display_data"
    }
   ],
   "source": [
    "import matplotlib.pyplot as plt\n",
    "%matplotlib inline\n",
    "\n",
    "plt.plot(range(len(train_loss)), train_loss, label=\"train loss\")\n",
    "plt.plot(range(len(valid_loss)), valid_loss, label=\"valid loss\")\n",
    "plt.legend()\n",
    "plt.title(\"Loss\")\n",
    "plt.show()\n",
    "\n",
    "plt.plot(range(len(train_acc)), train_acc, label=\"train accuracy\")\n",
    "plt.plot(range(len(valid_acc)), valid_acc, label=\"valid accuracy\")\n",
    "plt.legend()\n",
    "plt.title(\"Accuracy\")\n",
    "plt.show()\n",
    "\n",
    "plt.plot(range(len(valid_tp)), valid_tp, label=\"valid tp\", color=\"navy\")\n",
    "plt.plot(range(len(valid_tn)), valid_tn, label=\"valid tn\", color=\"red\")\n",
    "plt.legend()\n",
    "plt.title(\"True positives and True Negatives\")\n",
    "plt.show()\n"
   ]
  },
  {
   "cell_type": "code",
   "execution_count": null,
   "metadata": {},
   "outputs": [],
   "source": []
  }
 ],
 "metadata": {
  "kernelspec": {
   "display_name": "Python 3",
   "language": "python",
   "name": "python3"
  },
  "language_info": {
   "codemirror_mode": {
    "name": "ipython",
    "version": 3
   },
   "file_extension": ".py",
   "mimetype": "text/x-python",
   "name": "python",
   "nbconvert_exporter": "python",
   "pygments_lexer": "ipython3",
   "version": "3.7.3"
  }
 },
 "nbformat": 4,
 "nbformat_minor": 2
}
