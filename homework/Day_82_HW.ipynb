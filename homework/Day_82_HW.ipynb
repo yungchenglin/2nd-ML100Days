{
 "cells": [
  {
   "cell_type": "markdown",
   "metadata": {},
   "source": [
    "## Work\n",
    "1. 請比較使用不同層數以及不同 Dropout rate 對訓練的效果\n",
    "2. 將 optimizer 改成使用 Adam 並加上適當的 dropout rate 檢視結果"
   ]
  },
  {
   "cell_type": "code",
   "execution_count": 1,
   "metadata": {},
   "outputs": [
    {
     "name": "stderr",
     "output_type": "stream",
     "text": [
      "Using TensorFlow backend.\n"
     ]
    }
   ],
   "source": [
    "import os\n",
    "import keras\n",
    "import itertools\n",
    "# Disable GPU\n",
    "os.environ[\"CUDA_VISIBLE_DEVICES\"] = \"\""
   ]
  },
  {
   "cell_type": "code",
   "execution_count": 2,
   "metadata": {},
   "outputs": [],
   "source": [
    "train, test = keras.datasets.cifar10.load_data()"
   ]
  },
  {
   "cell_type": "code",
   "execution_count": 3,
   "metadata": {},
   "outputs": [],
   "source": [
    "## 資料前處理\n",
    "def preproc_x(x, flatten=True):\n",
    "    x = x / 255.\n",
    "    if flatten:\n",
    "        x = x.reshape((len(x), -1))\n",
    "    return x\n",
    "\n",
    "def preproc_y(y, num_classes=10):\n",
    "    if y.shape[-1] == 1:\n",
    "        y = keras.utils.to_categorical(y, num_classes)\n",
    "    return y    "
   ]
  },
  {
   "cell_type": "code",
   "execution_count": 4,
   "metadata": {},
   "outputs": [],
   "source": [
    "x_train, y_train = train\n",
    "x_test, y_test = test\n",
    "\n",
    "# Preproc the inputs\n",
    "x_train = preproc_x(x_train)\n",
    "x_test = preproc_x(x_test)\n",
    "\n",
    "# Preprc the outputs\n",
    "y_train = preproc_y(y_train)\n",
    "y_test = preproc_y(y_test)"
   ]
  },
  {
   "cell_type": "code",
   "execution_count": 8,
   "metadata": {},
   "outputs": [],
   "source": [
    "from keras.layers import Dropout\n",
    "\n",
    "\"\"\"\n",
    "建立神經網路，並加入 dropout layer\n",
    "\"\"\"\n",
    "def build_mlp(input_shape, output_units=10, num_neurons=[512, 256, 128, 64, 32], drp_ratio=0.2):\n",
    "    input_layer = keras.layers.Input(input_shape)\n",
    "    \n",
    "    for i, n_units in enumerate(num_neurons):\n",
    "        if i == 0:\n",
    "            x = keras.layers.Dense(units=n_units, \n",
    "                                   activation=\"relu\", \n",
    "                                   name=\"hidden_layer\"+str(i+1))(input_layer)\n",
    "            x = Dropout(drp_ratio)(x)\n",
    "        else:\n",
    "            x = keras.layers.Dense(units=n_units, \n",
    "                                   activation=\"relu\", \n",
    "                                   name=\"hidden_layer\"+str(i+1))(x)\n",
    "            x = Dropout(drp_ratio)(x)\n",
    "    \n",
    "    out = keras.layers.Dense(units=output_units, activation=\"softmax\", name=\"output\")(x)\n",
    "    \n",
    "    model = keras.models.Model(inputs=[input_layer], outputs=[out])\n",
    "    return model"
   ]
  },
  {
   "cell_type": "code",
   "execution_count": 9,
   "metadata": {},
   "outputs": [],
   "source": [
    "\"\"\"Code Here\n",
    "設定超參數\n",
    "\"\"\"\n",
    "\n",
    "LEARNING_RATE = 1e-3\n",
    "EPOCHS = 50\n",
    "BATCH_SIZE = 256\n",
    "MOMENTUM = 0.95\n",
    "Dropout_EXP = 0.15"
   ]
  },
  {
   "cell_type": "code",
   "execution_count": 10,
   "metadata": {
    "scrolled": true
   },
   "outputs": [
    {
     "name": "stderr",
     "output_type": "stream",
     "text": [
      "WARNING: Logging before flag parsing goes to stderr.\n",
      "W0727 18:11:14.083255 140736021775232 deprecation_wrapper.py:119] From /Users/linyongcheng/anaconda3/lib/python3.7/site-packages/keras/backend/tensorflow_backend.py:74: The name tf.get_default_graph is deprecated. Please use tf.compat.v1.get_default_graph instead.\n",
      "\n",
      "W0727 18:11:14.175653 140736021775232 deprecation_wrapper.py:119] From /Users/linyongcheng/anaconda3/lib/python3.7/site-packages/keras/backend/tensorflow_backend.py:517: The name tf.placeholder is deprecated. Please use tf.compat.v1.placeholder instead.\n",
      "\n",
      "W0727 18:11:14.196793 140736021775232 deprecation_wrapper.py:119] From /Users/linyongcheng/anaconda3/lib/python3.7/site-packages/keras/backend/tensorflow_backend.py:4138: The name tf.random_uniform is deprecated. Please use tf.random.uniform instead.\n",
      "\n",
      "W0727 18:11:14.229850 140736021775232 deprecation_wrapper.py:119] From /Users/linyongcheng/anaconda3/lib/python3.7/site-packages/keras/backend/tensorflow_backend.py:133: The name tf.placeholder_with_default is deprecated. Please use tf.compat.v1.placeholder_with_default instead.\n",
      "\n",
      "W0727 18:11:14.244703 140736021775232 deprecation.py:506] From /Users/linyongcheng/anaconda3/lib/python3.7/site-packages/keras/backend/tensorflow_backend.py:3445: calling dropout (from tensorflow.python.ops.nn_ops) with keep_prob is deprecated and will be removed in a future version.\n",
      "Instructions for updating:\n",
      "Please use `rate` instead of `keep_prob`. Rate should be set to `rate = 1 - keep_prob`.\n",
      "W0727 18:11:14.427663 140736021775232 deprecation_wrapper.py:119] From /Users/linyongcheng/anaconda3/lib/python3.7/site-packages/keras/optimizers.py:790: The name tf.train.Optimizer is deprecated. Please use tf.compat.v1.train.Optimizer instead.\n",
      "\n",
      "W0727 18:11:14.574934 140736021775232 deprecation_wrapper.py:119] From /Users/linyongcheng/anaconda3/lib/python3.7/site-packages/keras/backend/tensorflow_backend.py:3295: The name tf.log is deprecated. Please use tf.math.log instead.\n",
      "\n"
     ]
    },
    {
     "name": "stdout",
     "output_type": "stream",
     "text": [
      "_________________________________________________________________\n",
      "Layer (type)                 Output Shape              Param #   \n",
      "=================================================================\n",
      "input_1 (InputLayer)         (None, 3072)              0         \n",
      "_________________________________________________________________\n",
      "hidden_layer1 (Dense)        (None, 512)               1573376   \n",
      "_________________________________________________________________\n",
      "dropout_1 (Dropout)          (None, 512)               0         \n",
      "_________________________________________________________________\n",
      "hidden_layer2 (Dense)        (None, 256)               131328    \n",
      "_________________________________________________________________\n",
      "dropout_2 (Dropout)          (None, 256)               0         \n",
      "_________________________________________________________________\n",
      "hidden_layer3 (Dense)        (None, 128)               32896     \n",
      "_________________________________________________________________\n",
      "dropout_3 (Dropout)          (None, 128)               0         \n",
      "_________________________________________________________________\n",
      "hidden_layer4 (Dense)        (None, 64)                8256      \n",
      "_________________________________________________________________\n",
      "dropout_4 (Dropout)          (None, 64)                0         \n",
      "_________________________________________________________________\n",
      "hidden_layer5 (Dense)        (None, 32)                2080      \n",
      "_________________________________________________________________\n",
      "dropout_5 (Dropout)          (None, 32)                0         \n",
      "_________________________________________________________________\n",
      "output (Dense)               (None, 10)                330       \n",
      "=================================================================\n",
      "Total params: 1,748,266\n",
      "Trainable params: 1,748,266\n",
      "Non-trainable params: 0\n",
      "_________________________________________________________________\n"
     ]
    },
    {
     "name": "stderr",
     "output_type": "stream",
     "text": [
      "W0727 18:11:14.675508 140736021775232 deprecation.py:323] From /Users/linyongcheng/anaconda3/lib/python3.7/site-packages/tensorflow/python/ops/math_grad.py:1250: add_dispatch_support.<locals>.wrapper (from tensorflow.python.ops.array_ops) is deprecated and will be removed in a future version.\n",
      "Instructions for updating:\n",
      "Use tf.where in 2.0, which has the same broadcast rule as np.where\n"
     ]
    },
    {
     "name": "stdout",
     "output_type": "stream",
     "text": [
      "Train on 50000 samples, validate on 10000 samples\n",
      "Epoch 1/50\n",
      "50000/50000 [==============================] - 13s 265us/step - loss: 2.1175 - acc: 0.2038 - val_loss: 1.8886 - val_acc: 0.3219\n",
      "Epoch 2/50\n",
      "50000/50000 [==============================] - 10s 196us/step - loss: 1.9198 - acc: 0.2972 - val_loss: 1.7853 - val_acc: 0.3503\n",
      "Epoch 3/50\n",
      "50000/50000 [==============================] - 9s 181us/step - loss: 1.8443 - acc: 0.3292 - val_loss: 1.7275 - val_acc: 0.3763\n",
      "Epoch 4/50\n",
      "50000/50000 [==============================] - 8s 163us/step - loss: 1.8086 - acc: 0.3471 - val_loss: 1.7069 - val_acc: 0.3952\n",
      "Epoch 5/50\n",
      "50000/50000 [==============================] - 8s 162us/step - loss: 1.7673 - acc: 0.3595 - val_loss: 1.6484 - val_acc: 0.4129\n",
      "Epoch 6/50\n",
      "50000/50000 [==============================] - 8s 164us/step - loss: 1.7380 - acc: 0.3728 - val_loss: 1.6269 - val_acc: 0.4216\n",
      "Epoch 7/50\n",
      "50000/50000 [==============================] - 8s 165us/step - loss: 1.7097 - acc: 0.3846 - val_loss: 1.6326 - val_acc: 0.4122\n",
      "Epoch 8/50\n",
      "50000/50000 [==============================] - 8s 166us/step - loss: 1.6900 - acc: 0.3934 - val_loss: 1.6308 - val_acc: 0.4104\n",
      "Epoch 9/50\n",
      "50000/50000 [==============================] - 8s 165us/step - loss: 1.6626 - acc: 0.4039 - val_loss: 1.6046 - val_acc: 0.4225\n",
      "Epoch 10/50\n",
      "50000/50000 [==============================] - 8s 168us/step - loss: 1.6522 - acc: 0.4099 - val_loss: 1.5731 - val_acc: 0.4463\n",
      "Epoch 11/50\n",
      "50000/50000 [==============================] - 8s 167us/step - loss: 1.6410 - acc: 0.4133 - val_loss: 1.5458 - val_acc: 0.4553\n",
      "Epoch 12/50\n",
      "50000/50000 [==============================] - 8s 168us/step - loss: 1.6206 - acc: 0.4193 - val_loss: 1.5556 - val_acc: 0.4395\n",
      "Epoch 13/50\n",
      "50000/50000 [==============================] - 8s 168us/step - loss: 1.6089 - acc: 0.4246 - val_loss: 1.5315 - val_acc: 0.4559\n",
      "Epoch 14/50\n",
      "50000/50000 [==============================] - 8s 169us/step - loss: 1.5993 - acc: 0.4266 - val_loss: 1.5218 - val_acc: 0.4610\n",
      "Epoch 15/50\n",
      "50000/50000 [==============================] - 8s 169us/step - loss: 1.5934 - acc: 0.4316 - val_loss: 1.5452 - val_acc: 0.4512\n",
      "Epoch 16/50\n",
      "50000/50000 [==============================] - 8s 168us/step - loss: 1.5808 - acc: 0.4341 - val_loss: 1.4822 - val_acc: 0.4751\n",
      "Epoch 17/50\n",
      "50000/50000 [==============================] - 8s 169us/step - loss: 1.5698 - acc: 0.4382 - val_loss: 1.4841 - val_acc: 0.4759\n",
      "Epoch 18/50\n",
      "50000/50000 [==============================] - 8s 170us/step - loss: 1.5618 - acc: 0.4395 - val_loss: 1.5039 - val_acc: 0.4639\n",
      "Epoch 19/50\n",
      "50000/50000 [==============================] - 9s 177us/step - loss: 1.5561 - acc: 0.4433 - val_loss: 1.4856 - val_acc: 0.4798\n",
      "Epoch 20/50\n",
      "50000/50000 [==============================] - 9s 180us/step - loss: 1.5460 - acc: 0.4469 - val_loss: 1.4759 - val_acc: 0.4725\n",
      "Epoch 21/50\n",
      "50000/50000 [==============================] - 9s 178us/step - loss: 1.5393 - acc: 0.4498 - val_loss: 1.4724 - val_acc: 0.4715\n",
      "Epoch 22/50\n",
      "50000/50000 [==============================] - 8s 167us/step - loss: 1.5304 - acc: 0.4540 - val_loss: 1.4648 - val_acc: 0.4724\n",
      "Epoch 23/50\n",
      "50000/50000 [==============================] - 9s 184us/step - loss: 1.5279 - acc: 0.4528 - val_loss: 1.4722 - val_acc: 0.4719\n",
      "Epoch 24/50\n",
      "50000/50000 [==============================] - 8s 165us/step - loss: 1.5273 - acc: 0.4540 - val_loss: 1.4747 - val_acc: 0.4764\n",
      "Epoch 25/50\n",
      "50000/50000 [==============================] - 7s 148us/step - loss: 1.5173 - acc: 0.4586 - val_loss: 1.4666 - val_acc: 0.4840\n",
      "Epoch 26/50\n",
      "50000/50000 [==============================] - 7s 148us/step - loss: 1.5005 - acc: 0.4628 - val_loss: 1.4460 - val_acc: 0.4872\n",
      "Epoch 27/50\n",
      "50000/50000 [==============================] - 7s 149us/step - loss: 1.5078 - acc: 0.4619 - val_loss: 1.4548 - val_acc: 0.4795\n",
      "Epoch 28/50\n",
      "50000/50000 [==============================] - 8s 151us/step - loss: 1.4917 - acc: 0.4686 - val_loss: 1.4518 - val_acc: 0.4784\n",
      "Epoch 29/50\n",
      "50000/50000 [==============================] - 8s 152us/step - loss: 1.4965 - acc: 0.4676 - val_loss: 1.4697 - val_acc: 0.4799\n",
      "Epoch 30/50\n",
      "50000/50000 [==============================] - 8s 152us/step - loss: 1.4859 - acc: 0.4694 - val_loss: 1.4456 - val_acc: 0.4869\n",
      "Epoch 31/50\n",
      "50000/50000 [==============================] - 8s 152us/step - loss: 1.4760 - acc: 0.4736 - val_loss: 1.4250 - val_acc: 0.4890\n",
      "Epoch 32/50\n",
      "50000/50000 [==============================] - 8s 152us/step - loss: 1.4695 - acc: 0.4765 - val_loss: 1.4292 - val_acc: 0.4857\n",
      "Epoch 33/50\n",
      "50000/50000 [==============================] - 8s 152us/step - loss: 1.4734 - acc: 0.4760 - val_loss: 1.4399 - val_acc: 0.4864\n",
      "Epoch 34/50\n",
      "50000/50000 [==============================] - 8s 154us/step - loss: 1.4625 - acc: 0.4817 - val_loss: 1.4367 - val_acc: 0.4926\n",
      "Epoch 35/50\n",
      "50000/50000 [==============================] - 8s 154us/step - loss: 1.4643 - acc: 0.4784 - val_loss: 1.4640 - val_acc: 0.4793\n",
      "Epoch 36/50\n",
      "50000/50000 [==============================] - 8s 154us/step - loss: 1.4614 - acc: 0.4812 - val_loss: 1.4236 - val_acc: 0.4948\n",
      "Epoch 37/50\n",
      "50000/50000 [==============================] - 8s 155us/step - loss: 1.4506 - acc: 0.4845 - val_loss: 1.4228 - val_acc: 0.4935\n",
      "Epoch 38/50\n",
      "50000/50000 [==============================] - 8s 155us/step - loss: 1.4445 - acc: 0.4847 - val_loss: 1.4160 - val_acc: 0.4952\n",
      "Epoch 39/50\n",
      "50000/50000 [==============================] - 9s 180us/step - loss: 1.4509 - acc: 0.4841 - val_loss: 1.4515 - val_acc: 0.4839\n",
      "Epoch 40/50\n",
      "50000/50000 [==============================] - 10s 192us/step - loss: 1.4389 - acc: 0.4903 - val_loss: 1.4361 - val_acc: 0.4914\n",
      "Epoch 41/50\n",
      "50000/50000 [==============================] - 8s 168us/step - loss: 1.4354 - acc: 0.4910 - val_loss: 1.4102 - val_acc: 0.4953\n",
      "Epoch 42/50\n",
      "50000/50000 [==============================] - 8s 169us/step - loss: 1.4338 - acc: 0.4931 - val_loss: 1.4022 - val_acc: 0.4962\n",
      "Epoch 43/50\n",
      "50000/50000 [==============================] - 8s 170us/step - loss: 1.4334 - acc: 0.4905 - val_loss: 1.4126 - val_acc: 0.5013\n",
      "Epoch 44/50\n",
      "50000/50000 [==============================] - 9s 171us/step - loss: 1.4218 - acc: 0.4960 - val_loss: 1.3990 - val_acc: 0.5027\n",
      "Epoch 45/50\n",
      "50000/50000 [==============================] - 9s 170us/step - loss: 1.4257 - acc: 0.4966 - val_loss: 1.4008 - val_acc: 0.5120\n",
      "Epoch 46/50\n",
      "50000/50000 [==============================] - 9s 171us/step - loss: 1.4250 - acc: 0.4958 - val_loss: 1.4360 - val_acc: 0.4891\n",
      "Epoch 47/50\n",
      "50000/50000 [==============================] - 9s 172us/step - loss: 1.4095 - acc: 0.4965 - val_loss: 1.4255 - val_acc: 0.4930\n",
      "Epoch 48/50\n",
      "50000/50000 [==============================] - 9s 172us/step - loss: 1.4089 - acc: 0.5014 - val_loss: 1.4126 - val_acc: 0.4998\n",
      "Epoch 49/50\n",
      "50000/50000 [==============================] - 9s 171us/step - loss: 1.4103 - acc: 0.5012 - val_loss: 1.4039 - val_acc: 0.4982\n",
      "Epoch 50/50\n",
      "50000/50000 [==============================] - 9s 182us/step - loss: 1.4013 - acc: 0.5021 - val_loss: 1.3966 - val_acc: 0.5002\n"
     ]
    }
   ],
   "source": [
    "results = {}\n",
    "\"\"\"Code Here\n",
    "撰寫你的訓練流程並將結果用 dictionary 紀錄\n",
    "\"\"\"\n",
    "\n",
    "model = build_mlp(input_shape=x_train.shape[1:], drp_ratio=Dropout_EXP)\n",
    "model.summary()\n",
    "optimizer = keras.optimizers.Adam(lr=0.001, beta_1=0.9, beta_2=0.999, epsilon=1e-08)\n",
    "model.compile(loss=\"categorical_crossentropy\", metrics=[\"accuracy\"], optimizer=optimizer)\n",
    "\n",
    "model.fit(x_train, y_train, \n",
    "          epochs=EPOCHS, \n",
    "          batch_size=BATCH_SIZE, \n",
    "          validation_data=(x_test, y_test), \n",
    "          shuffle=True)\n",
    "\n",
    "# Collect results\n",
    "train_loss = model.history.history[\"loss\"]\n",
    "valid_loss = model.history.history[\"val_loss\"]\n",
    "train_acc = model.history.history[\"acc\"]\n",
    "valid_acc = model.history.history[\"val_acc\"]"
   ]
  },
  {
   "cell_type": "code",
   "execution_count": 11,
   "metadata": {},
   "outputs": [
    {
     "data": {
      "image/png": "[encoded data removed]",
      "text/plain": [
       "<Figure size 432x288 with 1 Axes>"
      ]
     },
     "metadata": {
      "needs_background": "light"
     },
     "output_type": "display_data"
    },
    {
     "data": {
      "image/png": "[encoded data removed]",
      "text/plain": [
       "<Figure size 432x288 with 1 Axes>"
      ]
     },
     "metadata": {
      "needs_background": "light"
     },
     "output_type": "display_data"
    }
   ],
   "source": [
    "import matplotlib.pyplot as plt\n",
    "%matplotlib inline\n",
    "\"\"\"Code Here\n",
    "將結果繪出\n",
    "\"\"\"\n",
    "\n",
    "plt.plot(range(len(train_loss)), train_loss, label=\"train loss\")\n",
    "plt.plot(range(len(valid_loss)), valid_loss, label=\"valid loss\")\n",
    "plt.legend()\n",
    "plt.title(\"Loss\")\n",
    "plt.show()\n",
    "\n",
    "plt.plot(range(len(train_acc)), train_acc, label=\"train accuracy\")\n",
    "plt.plot(range(len(valid_acc)), valid_acc, label=\"valid accuracy\")\n",
    "plt.legend()\n",
    "plt.title(\"Accuracy\")\n",
    "plt.show()"
   ]
  },
  {
   "cell_type": "code",
   "execution_count": null,
   "metadata": {},
   "outputs": [],
   "source": []
  }
 ],
 "metadata": {
  "kernelspec": {
   "display_name": "Python 3",
   "language": "python",
   "name": "python3"
  },
  "language_info": {
   "codemirror_mode": {
    "name": "ipython",
    "version": 3
   },
   "file_extension": ".py",
   "mimetype": "text/x-python",
   "name": "python",
   "nbconvert_exporter": "python",
   "pygments_lexer": "ipython3",
   "version": "3.7.3"
  }
 },
 "nbformat": 4,
 "nbformat_minor": 2
}
